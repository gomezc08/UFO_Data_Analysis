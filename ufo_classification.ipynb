{
 "cells": [
  {
   "attachments": {},
   "cell_type": "markdown",
   "metadata": {},
   "source": [
    "The goal of this ML is to predict the season of the sighting based on the time and location."
   ]
  },
  {
   "cell_type": "code",
   "execution_count": 1,
   "metadata": {},
   "outputs": [],
   "source": [
    "import pandas as pd"
   ]
  },
  {
   "cell_type": "code",
   "execution_count": 2,
   "metadata": {},
   "outputs": [],
   "source": [
    "df = pd.read_csv(\"ufo_data.csv\")"
   ]
  },
  {
   "attachments": {},
   "cell_type": "markdown",
   "metadata": {},
   "source": [
    "create seasons column and map them"
   ]
  },
  {
   "cell_type": "code",
   "execution_count": 3,
   "metadata": {},
   "outputs": [],
   "source": [
    "seasons = {1: 'winter', 2: 'winter', 3: 'spring', 4: 'spring', 5: 'spring', 6: 'summer',\n",
    "           7: 'summer', 8: 'summer', 9: 'fall', 10: 'fall', 11: 'fall', 12: 'winter'}\n",
    "\n",
    "df['Season'] = df['Month'].map(seasons)"
   ]
  },
  {
   "cell_type": "code",
   "execution_count": 4,
   "metadata": {},
   "outputs": [],
   "source": [
    "def time_of_day(h):\n",
    "    if h < 6:\n",
    "        return \"Night\"\n",
    "    elif h < 12:\n",
    "        return \"Morning\"\n",
    "    elif h < 18:\n",
    "        return \"Afternoon\"\n",
    "    else:\n",
    "        return \"Evening\"\n",
    "    \n",
    "df['Time of Day'] = df['Hour'].apply(time_of_day)"
   ]
  },
  {
   "cell_type": "code",
   "execution_count": 5,
   "metadata": {},
   "outputs": [
    {
     "data": {
      "text/html": [
       "<div>\n",
       "<style scoped>\n",
       "    .dataframe tbody tr th:only-of-type {\n",
       "        vertical-align: middle;\n",
       "    }\n",
       "\n",
       "    .dataframe tbody tr th {\n",
       "        vertical-align: top;\n",
       "    }\n",
       "\n",
       "    .dataframe thead th {\n",
       "        text-align: right;\n",
       "    }\n",
       "</style>\n",
       "<table border=\"1\" class=\"dataframe\">\n",
       "  <thead>\n",
       "    <tr style=\"text-align: right;\">\n",
       "      <th></th>\n",
       "      <th>City</th>\n",
       "      <th>State</th>\n",
       "      <th>Country</th>\n",
       "      <th>Shape of UFO</th>\n",
       "      <th>Year</th>\n",
       "      <th>Month</th>\n",
       "      <th>Day</th>\n",
       "      <th>Hour</th>\n",
       "      <th>Minute</th>\n",
       "      <th>Season</th>\n",
       "      <th>Time of Day</th>\n",
       "    </tr>\n",
       "  </thead>\n",
       "  <tbody>\n",
       "    <tr>\n",
       "      <th>0</th>\n",
       "      <td>Brighton/Fairfield</td>\n",
       "      <td>IA</td>\n",
       "      <td>USA</td>\n",
       "      <td>Teardrop</td>\n",
       "      <td>2023.0</td>\n",
       "      <td>4.0</td>\n",
       "      <td>8.0</td>\n",
       "      <td>19.0</td>\n",
       "      <td>30.0</td>\n",
       "      <td>spring</td>\n",
       "      <td>Evening</td>\n",
       "    </tr>\n",
       "    <tr>\n",
       "      <th>1</th>\n",
       "      <td>Ocean Shores</td>\n",
       "      <td>New South Wales</td>\n",
       "      <td>Australia</td>\n",
       "      <td>Triangle</td>\n",
       "      <td>2023.0</td>\n",
       "      <td>4.0</td>\n",
       "      <td>8.0</td>\n",
       "      <td>18.0</td>\n",
       "      <td>45.0</td>\n",
       "      <td>spring</td>\n",
       "      <td>Evening</td>\n",
       "    </tr>\n",
       "    <tr>\n",
       "      <th>2</th>\n",
       "      <td>Southampton</td>\n",
       "      <td>MA</td>\n",
       "      <td>USA</td>\n",
       "      <td>Light</td>\n",
       "      <td>2023.0</td>\n",
       "      <td>4.0</td>\n",
       "      <td>8.0</td>\n",
       "      <td>5.0</td>\n",
       "      <td>39.0</td>\n",
       "      <td>spring</td>\n",
       "      <td>Night</td>\n",
       "    </tr>\n",
       "    <tr>\n",
       "      <th>3</th>\n",
       "      <td>ST BRUNO DE MONTARVILLE</td>\n",
       "      <td>Quebec</td>\n",
       "      <td>Canada</td>\n",
       "      <td>Changing</td>\n",
       "      <td>2023.0</td>\n",
       "      <td>4.0</td>\n",
       "      <td>7.0</td>\n",
       "      <td>22.0</td>\n",
       "      <td>15.0</td>\n",
       "      <td>spring</td>\n",
       "      <td>Evening</td>\n",
       "    </tr>\n",
       "    <tr>\n",
       "      <th>4</th>\n",
       "      <td>Bedford</td>\n",
       "      <td>VA</td>\n",
       "      <td>USA</td>\n",
       "      <td>Cube</td>\n",
       "      <td>2023.0</td>\n",
       "      <td>4.0</td>\n",
       "      <td>7.0</td>\n",
       "      <td>21.0</td>\n",
       "      <td>55.0</td>\n",
       "      <td>spring</td>\n",
       "      <td>Evening</td>\n",
       "    </tr>\n",
       "    <tr>\n",
       "      <th>...</th>\n",
       "      <td>...</td>\n",
       "      <td>...</td>\n",
       "      <td>...</td>\n",
       "      <td>...</td>\n",
       "      <td>...</td>\n",
       "      <td>...</td>\n",
       "      <td>...</td>\n",
       "      <td>...</td>\n",
       "      <td>...</td>\n",
       "      <td>...</td>\n",
       "      <td>...</td>\n",
       "    </tr>\n",
       "    <tr>\n",
       "      <th>127879</th>\n",
       "      <td>Interstate-5</td>\n",
       "      <td>CA</td>\n",
       "      <td>USA</td>\n",
       "      <td>Other</td>\n",
       "      <td>2023.0</td>\n",
       "      <td>4.0</td>\n",
       "      <td>28.0</td>\n",
       "      <td>1.0</td>\n",
       "      <td>0.0</td>\n",
       "      <td>spring</td>\n",
       "      <td>Night</td>\n",
       "    </tr>\n",
       "    <tr>\n",
       "      <th>127880</th>\n",
       "      <td>Senji</td>\n",
       "      <td>IN</td>\n",
       "      <td>India</td>\n",
       "      <td>Flash</td>\n",
       "      <td>2021.0</td>\n",
       "      <td>6.0</td>\n",
       "      <td>22.0</td>\n",
       "      <td>1.0</td>\n",
       "      <td>0.0</td>\n",
       "      <td>summer</td>\n",
       "      <td>Night</td>\n",
       "    </tr>\n",
       "    <tr>\n",
       "      <th>127881</th>\n",
       "      <td>Kentville (Canada)</td>\n",
       "      <td>NS</td>\n",
       "      <td>Canada</td>\n",
       "      <td>Light</td>\n",
       "      <td>1984.0</td>\n",
       "      <td>7.0</td>\n",
       "      <td>1.0</td>\n",
       "      <td>0.0</td>\n",
       "      <td>30.0</td>\n",
       "      <td>summer</td>\n",
       "      <td>Night</td>\n",
       "    </tr>\n",
       "    <tr>\n",
       "      <th>127882</th>\n",
       "      <td>Alabama</td>\n",
       "      <td>AL</td>\n",
       "      <td>USA</td>\n",
       "      <td>Diamond</td>\n",
       "      <td>2023.0</td>\n",
       "      <td>4.0</td>\n",
       "      <td>28.0</td>\n",
       "      <td>0.0</td>\n",
       "      <td>4.0</td>\n",
       "      <td>spring</td>\n",
       "      <td>Night</td>\n",
       "    </tr>\n",
       "    <tr>\n",
       "      <th>127883</th>\n",
       "      <td>New York City</td>\n",
       "      <td>NY</td>\n",
       "      <td>USA</td>\n",
       "      <td>Circle</td>\n",
       "      <td>2023.0</td>\n",
       "      <td>4.0</td>\n",
       "      <td>28.0</td>\n",
       "      <td>0.0</td>\n",
       "      <td>0.0</td>\n",
       "      <td>spring</td>\n",
       "      <td>Night</td>\n",
       "    </tr>\n",
       "  </tbody>\n",
       "</table>\n",
       "<p>127884 rows × 11 columns</p>\n",
       "</div>"
      ],
      "text/plain": [
       "                           City            State    Country Shape of UFO  \\\n",
       "0            Brighton/Fairfield               IA        USA     Teardrop   \n",
       "1                  Ocean Shores  New South Wales  Australia     Triangle   \n",
       "2                   Southampton               MA        USA        Light   \n",
       "3       ST BRUNO DE MONTARVILLE           Quebec     Canada     Changing   \n",
       "4                       Bedford               VA        USA         Cube   \n",
       "...                         ...              ...        ...          ...   \n",
       "127879             Interstate-5               CA        USA        Other   \n",
       "127880                    Senji               IN      India        Flash   \n",
       "127881       Kentville (Canada)               NS     Canada        Light   \n",
       "127882                  Alabama               AL        USA      Diamond   \n",
       "127883            New York City               NY        USA       Circle   \n",
       "\n",
       "          Year  Month   Day  Hour  Minute  Season Time of Day  \n",
       "0       2023.0    4.0   8.0  19.0    30.0  spring     Evening  \n",
       "1       2023.0    4.0   8.0  18.0    45.0  spring     Evening  \n",
       "2       2023.0    4.0   8.0   5.0    39.0  spring       Night  \n",
       "3       2023.0    4.0   7.0  22.0    15.0  spring     Evening  \n",
       "4       2023.0    4.0   7.0  21.0    55.0  spring     Evening  \n",
       "...        ...    ...   ...   ...     ...     ...         ...  \n",
       "127879  2023.0    4.0  28.0   1.0     0.0  spring       Night  \n",
       "127880  2021.0    6.0  22.0   1.0     0.0  summer       Night  \n",
       "127881  1984.0    7.0   1.0   0.0    30.0  summer       Night  \n",
       "127882  2023.0    4.0  28.0   0.0     4.0  spring       Night  \n",
       "127883  2023.0    4.0  28.0   0.0     0.0  spring       Night  \n",
       "\n",
       "[127884 rows x 11 columns]"
      ]
     },
     "execution_count": 5,
     "metadata": {},
     "output_type": "execute_result"
    }
   ],
   "source": [
    "df"
   ]
  },
  {
   "attachments": {},
   "cell_type": "markdown",
   "metadata": {},
   "source": [
    "Applying one hot encoding on cateogrical columns"
   ]
  },
  {
   "cell_type": "code",
   "execution_count": 6,
   "metadata": {},
   "outputs": [
    {
     "data": {
      "text/html": [
       "<div>\n",
       "<style scoped>\n",
       "    .dataframe tbody tr th:only-of-type {\n",
       "        vertical-align: middle;\n",
       "    }\n",
       "\n",
       "    .dataframe tbody tr th {\n",
       "        vertical-align: top;\n",
       "    }\n",
       "\n",
       "    .dataframe thead th {\n",
       "        text-align: right;\n",
       "    }\n",
       "</style>\n",
       "<table border=\"1\" class=\"dataframe\">\n",
       "  <thead>\n",
       "    <tr style=\"text-align: right;\">\n",
       "      <th></th>\n",
       "      <th>City</th>\n",
       "      <th>State</th>\n",
       "      <th>Country</th>\n",
       "      <th>Shape of UFO</th>\n",
       "      <th>Year</th>\n",
       "      <th>Month</th>\n",
       "      <th>Day</th>\n",
       "      <th>Hour</th>\n",
       "      <th>Minute</th>\n",
       "      <th>Season</th>\n",
       "      <th>Time of Day</th>\n",
       "    </tr>\n",
       "  </thead>\n",
       "  <tbody>\n",
       "    <tr>\n",
       "      <th>0</th>\n",
       "      <td>2357</td>\n",
       "      <td>137</td>\n",
       "      <td>97</td>\n",
       "      <td>22</td>\n",
       "      <td>2023.0</td>\n",
       "      <td>4.0</td>\n",
       "      <td>8.0</td>\n",
       "      <td>19.0</td>\n",
       "      <td>30.0</td>\n",
       "      <td>1</td>\n",
       "      <td>1</td>\n",
       "    </tr>\n",
       "    <tr>\n",
       "      <th>1</th>\n",
       "      <td>15024</td>\n",
       "      <td>214</td>\n",
       "      <td>4</td>\n",
       "      <td>23</td>\n",
       "      <td>2023.0</td>\n",
       "      <td>4.0</td>\n",
       "      <td>8.0</td>\n",
       "      <td>18.0</td>\n",
       "      <td>45.0</td>\n",
       "      <td>1</td>\n",
       "      <td>1</td>\n",
       "    </tr>\n",
       "    <tr>\n",
       "      <th>2</th>\n",
       "      <td>19647</td>\n",
       "      <td>176</td>\n",
       "      <td>97</td>\n",
       "      <td>15</td>\n",
       "      <td>2023.0</td>\n",
       "      <td>4.0</td>\n",
       "      <td>8.0</td>\n",
       "      <td>5.0</td>\n",
       "      <td>39.0</td>\n",
       "      <td>1</td>\n",
       "      <td>3</td>\n",
       "    </tr>\n",
       "    <tr>\n",
       "      <th>3</th>\n",
       "      <td>18002</td>\n",
       "      <td>252</td>\n",
       "      <td>15</td>\n",
       "      <td>0</td>\n",
       "      <td>2023.0</td>\n",
       "      <td>4.0</td>\n",
       "      <td>7.0</td>\n",
       "      <td>22.0</td>\n",
       "      <td>15.0</td>\n",
       "      <td>1</td>\n",
       "      <td>1</td>\n",
       "    </tr>\n",
       "    <tr>\n",
       "      <th>4</th>\n",
       "      <td>1389</td>\n",
       "      <td>310</td>\n",
       "      <td>97</td>\n",
       "      <td>6</td>\n",
       "      <td>2023.0</td>\n",
       "      <td>4.0</td>\n",
       "      <td>7.0</td>\n",
       "      <td>21.0</td>\n",
       "      <td>55.0</td>\n",
       "      <td>1</td>\n",
       "      <td>1</td>\n",
       "    </tr>\n",
       "    <tr>\n",
       "      <th>...</th>\n",
       "      <td>...</td>\n",
       "      <td>...</td>\n",
       "      <td>...</td>\n",
       "      <td>...</td>\n",
       "      <td>...</td>\n",
       "      <td>...</td>\n",
       "      <td>...</td>\n",
       "      <td>...</td>\n",
       "      <td>...</td>\n",
       "      <td>...</td>\n",
       "      <td>...</td>\n",
       "    </tr>\n",
       "    <tr>\n",
       "      <th>127879</th>\n",
       "      <td>9543</td>\n",
       "      <td>55</td>\n",
       "      <td>97</td>\n",
       "      <td>17</td>\n",
       "      <td>2023.0</td>\n",
       "      <td>4.0</td>\n",
       "      <td>28.0</td>\n",
       "      <td>1.0</td>\n",
       "      <td>0.0</td>\n",
       "      <td>1</td>\n",
       "      <td>3</td>\n",
       "    </tr>\n",
       "    <tr>\n",
       "      <th>127880</th>\n",
       "      <td>18891</td>\n",
       "      <td>140</td>\n",
       "      <td>43</td>\n",
       "      <td>13</td>\n",
       "      <td>2021.0</td>\n",
       "      <td>6.0</td>\n",
       "      <td>22.0</td>\n",
       "      <td>1.0</td>\n",
       "      <td>0.0</td>\n",
       "      <td>2</td>\n",
       "      <td>3</td>\n",
       "    </tr>\n",
       "    <tr>\n",
       "      <th>127881</th>\n",
       "      <td>10153</td>\n",
       "      <td>207</td>\n",
       "      <td>15</td>\n",
       "      <td>15</td>\n",
       "      <td>1984.0</td>\n",
       "      <td>7.0</td>\n",
       "      <td>1.0</td>\n",
       "      <td>0.0</td>\n",
       "      <td>30.0</td>\n",
       "      <td>2</td>\n",
       "      <td>3</td>\n",
       "    </tr>\n",
       "    <tr>\n",
       "      <th>127882</th>\n",
       "      <td>169</td>\n",
       "      <td>3</td>\n",
       "      <td>97</td>\n",
       "      <td>9</td>\n",
       "      <td>2023.0</td>\n",
       "      <td>4.0</td>\n",
       "      <td>28.0</td>\n",
       "      <td>0.0</td>\n",
       "      <td>4.0</td>\n",
       "      <td>1</td>\n",
       "      <td>3</td>\n",
       "    </tr>\n",
       "    <tr>\n",
       "      <th>127883</th>\n",
       "      <td>14294</td>\n",
       "      <td>210</td>\n",
       "      <td>97</td>\n",
       "      <td>3</td>\n",
       "      <td>2023.0</td>\n",
       "      <td>4.0</td>\n",
       "      <td>28.0</td>\n",
       "      <td>0.0</td>\n",
       "      <td>0.0</td>\n",
       "      <td>1</td>\n",
       "      <td>3</td>\n",
       "    </tr>\n",
       "  </tbody>\n",
       "</table>\n",
       "<p>127884 rows × 11 columns</p>\n",
       "</div>"
      ],
      "text/plain": [
       "         City  State  Country  Shape of UFO    Year  Month   Day  Hour  \\\n",
       "0        2357    137       97            22  2023.0    4.0   8.0  19.0   \n",
       "1       15024    214        4            23  2023.0    4.0   8.0  18.0   \n",
       "2       19647    176       97            15  2023.0    4.0   8.0   5.0   \n",
       "3       18002    252       15             0  2023.0    4.0   7.0  22.0   \n",
       "4        1389    310       97             6  2023.0    4.0   7.0  21.0   \n",
       "...       ...    ...      ...           ...     ...    ...   ...   ...   \n",
       "127879   9543     55       97            17  2023.0    4.0  28.0   1.0   \n",
       "127880  18891    140       43            13  2021.0    6.0  22.0   1.0   \n",
       "127881  10153    207       15            15  1984.0    7.0   1.0   0.0   \n",
       "127882    169      3       97             9  2023.0    4.0  28.0   0.0   \n",
       "127883  14294    210       97             3  2023.0    4.0  28.0   0.0   \n",
       "\n",
       "        Minute  Season  Time of Day  \n",
       "0         30.0       1            1  \n",
       "1         45.0       1            1  \n",
       "2         39.0       1            3  \n",
       "3         15.0       1            1  \n",
       "4         55.0       1            1  \n",
       "...        ...     ...          ...  \n",
       "127879     0.0       1            3  \n",
       "127880     0.0       2            3  \n",
       "127881    30.0       2            3  \n",
       "127882     4.0       1            3  \n",
       "127883     0.0       1            3  \n",
       "\n",
       "[127884 rows x 11 columns]"
      ]
     },
     "execution_count": 6,
     "metadata": {},
     "output_type": "execute_result"
    }
   ],
   "source": [
    "from sklearn.preprocessing import LabelEncoder\n",
    "from sklearn.preprocessing import OneHotEncoder\n",
    "le = LabelEncoder()\n",
    "ohe = OneHotEncoder()\n",
    "\n",
    "le = LabelEncoder()\n",
    "df['City'] = le.fit_transform(df['City'])\n",
    "enc = OneHotEncoder(handle_unknown='ignore')\n",
    "X = enc.fit_transform(df[['City']])\n",
    "\n",
    "df['Country'] = le.fit_transform(df['Country'])\n",
    "enc = OneHotEncoder(handle_unknown='ignore')\n",
    "X = enc.fit_transform(df[['Country']])\n",
    "\n",
    "df['Shape of UFO'] = le.fit_transform(df['Shape of UFO'])\n",
    "enc = OneHotEncoder(handle_unknown='ignore')\n",
    "X = enc.fit_transform(df[['Shape of UFO']])\n",
    "\n",
    "df['State'] = le.fit_transform(df['State'])\n",
    "enc = OneHotEncoder(handle_unknown='ignore')\n",
    "X = enc.fit_transform(df[['State']])\n",
    "\n",
    "df['Season'] = le.fit_transform(df['Season'])\n",
    "enc = OneHotEncoder(handle_unknown='ignore')\n",
    "X = enc.fit_transform(df[['Season']])\n",
    "\n",
    "df['Time of Day'] = le.fit_transform(df['Time of Day'])\n",
    "enc = OneHotEncoder(handle_unknown='ignore')\n",
    "X = enc.fit_transform(df[['Time of Day']])\n",
    "df"
   ]
  },
  {
   "attachments": {},
   "cell_type": "markdown",
   "metadata": {},
   "source": [
    "x represents: State, shape of UFO, month, and season.                     \n",
    "y represents: time of day"
   ]
  },
  {
   "cell_type": "code",
   "execution_count": 7,
   "metadata": {},
   "outputs": [],
   "source": [
    "x = df.iloc[:, [1,3,5,9]].values\n",
    "y = df.iloc[:, 10].values"
   ]
  },
  {
   "attachments": {},
   "cell_type": "markdown",
   "metadata": {},
   "source": [
    "Split dataset"
   ]
  },
  {
   "cell_type": "code",
   "execution_count": 8,
   "metadata": {},
   "outputs": [],
   "source": [
    "from sklearn.model_selection import train_test_split\n",
    "(x_train, x_test, y_train, y_test) = train_test_split(x, y, test_size = 0.2, random_state = 0)"
   ]
  },
  {
   "attachments": {},
   "cell_type": "markdown",
   "metadata": {},
   "source": [
    "Feature scaling"
   ]
  },
  {
   "cell_type": "code",
   "execution_count": 9,
   "metadata": {},
   "outputs": [],
   "source": [
    "from sklearn.preprocessing import StandardScaler\n",
    "s = StandardScaler()\n",
    "x_train = s.fit_transform(x_train)\n",
    "x_test = s.fit_transform(x_test)"
   ]
  },
  {
   "attachments": {},
   "cell_type": "markdown",
   "metadata": {},
   "source": [
    "CLASSIFIER 1: RANDOM FOREST"
   ]
  },
  {
   "cell_type": "code",
   "execution_count": 10,
   "metadata": {},
   "outputs": [],
   "source": [
    "from sklearn.ensemble import RandomForestClassifier\n",
    "forest = RandomForestClassifier(n_estimators = 10, criterion = \"entropy\", random_state = 0)\n",
    "forest.fit(x_train, y_train)\n",
    "\n",
    "y_pred_forest = forest.predict(x_test)"
   ]
  },
  {
   "attachments": {},
   "cell_type": "markdown",
   "metadata": {},
   "source": [
    "CLASSIFIER 2: NAIVE BAYES"
   ]
  },
  {
   "cell_type": "code",
   "execution_count": 11,
   "metadata": {},
   "outputs": [],
   "source": [
    "from sklearn.naive_bayes import GaussianNB\n",
    "naiveBayes = GaussianNB()\n",
    "naiveBayes.fit(x_train, y_train)\n",
    "\n",
    "y_pred_bayes = naiveBayes.predict(x_test)"
   ]
  },
  {
   "attachments": {},
   "cell_type": "markdown",
   "metadata": {},
   "source": [
    "CLASSIFIER 3: KNN"
   ]
  },
  {
   "cell_type": "code",
   "execution_count": 12,
   "metadata": {},
   "outputs": [],
   "source": [
    "from sklearn.neighbors import KNeighborsClassifier\n",
    "KNN = KNeighborsClassifier(n_neighbors = 6, metric = \"minkowski\", p = 2)\n",
    "KNN.fit(x_train, y_train)\n",
    "\n",
    "y_pred_knn = KNN.predict(x_test)"
   ]
  },
  {
   "attachments": {},
   "cell_type": "markdown",
   "metadata": {},
   "source": [
    "CLASSIFER 4: Logistic Regression "
   ]
  },
  {
   "cell_type": "code",
   "execution_count": 13,
   "metadata": {},
   "outputs": [],
   "source": [
    "from sklearn.linear_model import LogisticRegression\n",
    "lr = LogisticRegression(random_state = 0)\n",
    "lr.fit(x_train, y_train)\n",
    "\n",
    "y_pred_lr = lr.predict(x_test)"
   ]
  },
  {
   "attachments": {},
   "cell_type": "markdown",
   "metadata": {},
   "source": [
    "Confusion matrix"
   ]
  },
  {
   "cell_type": "code",
   "execution_count": 14,
   "metadata": {},
   "outputs": [],
   "source": [
    "from sklearn.metrics import confusion_matrix\n",
    "cm_forest = confusion_matrix(y_test, y_pred_forest)\n",
    "cm_naive = confusion_matrix(y_test, y_pred_bayes)\n",
    "cm_knn = confusion_matrix(y_test, y_pred_knn)\n",
    "cm_lr = confusion_matrix(y_test, y_pred_lr)"
   ]
  },
  {
   "attachments": {},
   "cell_type": "markdown",
   "metadata": {},
   "source": [
    "Accuracy score"
   ]
  },
  {
   "cell_type": "code",
   "execution_count": 15,
   "metadata": {},
   "outputs": [
    {
     "name": "stdout",
     "output_type": "stream",
     "text": [
      "Accuracy of Random Forest: 0.5549908120577081\n",
      "Accuracy of Naive Bayes: 0.6021425499472182\n",
      "Accuracy of KNN: 0.5497908276967588\n",
      "Accuracy of Logistic Regression: 0.6021425499472182\n"
     ]
    }
   ],
   "source": [
    "from sklearn.metrics import accuracy_score\n",
    "acc_forest = accuracy_score(y_test, y_pred_forest)\n",
    "acc_naive = acc_tree = accuracy_score(y_test, y_pred_bayes)\n",
    "acc_knn = accuracy_score(y_test, y_pred_knn)\n",
    "acc_lr = accuracy_score(y_test, y_pred_lr)\n",
    "\n",
    "print(\"Accuracy of Random Forest: \" + str(acc_forest))\n",
    "print(\"Accuracy of Naive Bayes: \" + str(acc_naive))\n",
    "print(\"Accuracy of KNN: \" + str(acc_knn))\n",
    "print(\"Accuracy of Logistic Regression: \" + str(acc_lr))"
   ]
  },
  {
   "attachments": {},
   "cell_type": "markdown",
   "metadata": {},
   "source": [
    "Precision"
   ]
  },
  {
   "cell_type": "code",
   "execution_count": 16,
   "metadata": {},
   "outputs": [
    {
     "name": "stdout",
     "output_type": "stream",
     "text": [
      "Precision for Random Forest is 0.450580\n",
      "Precision for Naive Bayes is 0.362576\n",
      "Precision for KNN is 0.448322\n",
      "Precision for Logistic Regression is 0.362576\n"
     ]
    },
    {
     "name": "stderr",
     "output_type": "stream",
     "text": [
      "C:\\Users\\kimig\\AppData\\Local\\Packages\\PythonSoftwareFoundation.Python.3.8_qbz5n2kfra8p0\\LocalCache\\local-packages\\Python38\\site-packages\\sklearn\\metrics\\_classification.py:1344: UndefinedMetricWarning: Precision is ill-defined and being set to 0.0 in labels with no predicted samples. Use `zero_division` parameter to control this behavior.\n",
      "  _warn_prf(average, modifier, msg_start, len(result))\n",
      "C:\\Users\\kimig\\AppData\\Local\\Packages\\PythonSoftwareFoundation.Python.3.8_qbz5n2kfra8p0\\LocalCache\\local-packages\\Python38\\site-packages\\sklearn\\metrics\\_classification.py:1344: UndefinedMetricWarning: Precision is ill-defined and being set to 0.0 in labels with no predicted samples. Use `zero_division` parameter to control this behavior.\n",
      "  _warn_prf(average, modifier, msg_start, len(result))\n"
     ]
    }
   ],
   "source": [
    "from sklearn.metrics import precision_score\n",
    "precision_forest = precision_score(y_test, y_pred_forest, average='weighted')\n",
    "precision_naive = precision_score(y_test, y_pred_bayes, average='weighted')\n",
    "precision_knn = precision_score(y_test, y_pred_knn, average='weighted')\n",
    "precision_lr = precision_score(y_test, y_pred_lr, average='weighted')\n",
    "print('Precision for Random Forest is %f' % precision_forest)\n",
    "print('Precision for Naive Bayes is %f' % precision_naive)\n",
    "print('Precision for KNN is %f' % precision_knn)\n",
    "print('Precision for Logistic Regression is %f' % precision_lr)"
   ]
  },
  {
   "attachments": {},
   "cell_type": "markdown",
   "metadata": {},
   "source": [
    "This is a pretty cool result that for the most part, our classifiers are able to predict "
   ]
  },
  {
   "attachments": {},
   "cell_type": "markdown",
   "metadata": {},
   "source": [
    "### Visualization"
   ]
  },
  {
   "cell_type": "code",
   "execution_count": 17,
   "metadata": {},
   "outputs": [],
   "source": [
    "import seaborn as sns\n",
    "import matplotlib.pyplot as plt\n",
    "from sklearn.metrics import confusion_matrix"
   ]
  },
  {
   "attachments": {},
   "cell_type": "markdown",
   "metadata": {},
   "source": [
    "Heatmap for Random Forest"
   ]
  },
  {
   "cell_type": "code",
   "execution_count": 18,
   "metadata": {},
   "outputs": [
    {
     "data": {
      "image/png": "[encoded data removed]",
      "text/plain": [
       "<Figure size 640x480 with 2 Axes>"
      ]
     },
     "metadata": {},
     "output_type": "display_data"
    }
   ],
   "source": [
    "# Create heatmap using seaborn\n",
    "sns.heatmap(cm_forest, annot=True, fmt='.0f', cmap=\"Blues\")\n",
    "\n",
    "# Add labels and title\n",
    "plt.xlabel(\"Predicted labels\")\n",
    "plt.ylabel(\"True labels\")\n",
    "plt.title(\"Confusion Matrix Random Forest\")\n",
    "\n",
    "# Show the plot\n",
    "plt.show()"
   ]
  },
  {
   "attachments": {},
   "cell_type": "markdown",
   "metadata": {},
   "source": [
    "Heatmap for Naive Bayes"
   ]
  },
  {
   "cell_type": "code",
   "execution_count": 19,
   "metadata": {},
   "outputs": [
    {
     "data": {
      "image/png": "[encoded data removed]",
      "text/plain": [
       "<Figure size 640x480 with 2 Axes>"
      ]
     },
     "metadata": {},
     "output_type": "display_data"
    }
   ],
   "source": [
    "# Create heatmap using seaborn\n",
    "sns.heatmap(cm_naive, annot=True, fmt='.0f', cmap=\"Blues\")\n",
    "\n",
    "# Add labels and title\n",
    "plt.xlabel(\"Predicted labels\")\n",
    "plt.ylabel(\"True labels\")\n",
    "plt.title(\"Confusion Matrix Naive Bayes\")\n",
    "\n",
    "# Show the plot\n",
    "plt.show()"
   ]
  },
  {
   "attachments": {},
   "cell_type": "markdown",
   "metadata": {},
   "source": [
    "Heatmap for KNN"
   ]
  },
  {
   "cell_type": "code",
   "execution_count": 20,
   "metadata": {},
   "outputs": [
    {
     "data": {
      "image/png": "[encoded data removed]",
      "text/plain": [
       "<Figure size 640x480 with 2 Axes>"
      ]
     },
     "metadata": {},
     "output_type": "display_data"
    }
   ],
   "source": [
    "# Create heatmap using seaborn\n",
    "sns.heatmap(cm_knn, annot=True, fmt='.0f', cmap=\"Blues\")\n",
    "\n",
    "# Add labels and title\n",
    "plt.xlabel(\"Predicted labels\")\n",
    "plt.ylabel(\"True labels\")\n",
    "plt.title(\"Confusion Matrix KNN\")\n",
    "\n",
    "# Show the plot\n",
    "plt.show()"
   ]
  },
  {
   "attachments": {},
   "cell_type": "markdown",
   "metadata": {},
   "source": [
    "Heatmap for Logistic Regression"
   ]
  },
  {
   "cell_type": "code",
   "execution_count": 21,
   "metadata": {},
   "outputs": [
    {
     "data": {
      "image/png": "[encoded data removed]",
      "text/plain": [
       "<Figure size 640x480 with 2 Axes>"
      ]
     },
     "metadata": {},
     "output_type": "display_data"
    }
   ],
   "source": [
    "# Create heatmap using seaborn\n",
    "sns.heatmap(cm_lr, annot=True, fmt='.0f', cmap=\"Blues\")\n",
    "\n",
    "# Add labels and title\n",
    "plt.xlabel(\"Predicted labels\")\n",
    "plt.ylabel(\"True labels\")\n",
    "plt.title(\"Confusion Matrix Logistic Regression\")\n",
    "\n",
    "# Show the plot\n",
    "plt.show()"
   ]
  },
  {
   "attachments": {},
   "cell_type": "markdown",
   "metadata": {},
   "source": [
    "These are pretty interesting results. The way I look at it is that our classifiers took advantage that the majority of the sightings happen during the evening (when it is dark) and predominatly predicted most sightings happen during the evening regardless of the shape of the UFO, the location, and time of year the sighting was in. Besides the evening, there really was no other correlations. This result makes sense because this website is one such that anyone can report anything even if they are wrong with what they see. It is a very unreliable source to trust and it was fun to explore that there really is zero evidence suggesting paterns in UFOs."
   ]
  }
 ],
 "metadata": {
  "kernelspec": {
   "display_name": "Python 3",
   "language": "python",
   "name": "python3"
  },
  "language_info": {
   "codemirror_mode": {
    "name": "ipython",
    "version": 3
   },
   "file_extension": ".py",
   "mimetype": "text/x-python",
   "name": "python",
   "nbconvert_exporter": "python",
   "pygments_lexer": "ipython3",
   "version": "3.8.10"
  },
  "orig_nbformat": 4
 },
 "nbformat": 4,
 "nbformat_minor": 2
}
